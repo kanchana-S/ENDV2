{
  "nbformat": 4,
  "nbformat_minor": 0,
  "metadata": {
    "colab": {
      "name": "END2.0 Session 1 Assignment.ipynb",
      "provenance": [],
      "collapsed_sections": [],
      "include_colab_link": true
    },
    "kernelspec": {
      "name": "python3",
      "display_name": "Python 3"
    },
    "language_info": {
      "name": "python"
    }
  },
  "cells": [
    {
      "cell_type": "markdown",
      "metadata": {
        "id": "view-in-github",
        "colab_type": "text"
      },
      "source": [
        "<a href=\"https://colab.research.google.com/github/kanchana-S/ENDV2/blob/main/END2_0_Session_1_Assignment.ipynb\" target=\"_parent\"><img src=\"https://colab.research.google.com/assets/colab-badge.svg\" alt=\"Open In Colab\"/></a>"
      ]
    },
    {
      "cell_type": "code",
      "metadata": {
        "colab": {
          "base_uri": "https://localhost:8080/"
        },
        "id": "GC_6PeobwwkH",
        "outputId": "44739292-2d7a-4082-a031-ccf92b38807d"
      },
      "source": [
        "import torch\n",
        "from torch.autograd import Variable\n",
        "import torch.nn as nn\n",
        "import torch.nn.functional as F\n",
        "import torch.optim as optim\n",
        "import numpy as np\n",
        "import matplotlib.pyplot as plt\n",
        "%matplotlib inline\n",
        "torch.manual_seed(2)"
      ],
      "execution_count": 1,
      "outputs": [
        {
          "output_type": "execute_result",
          "data": {
            "text/plain": [
              "<torch._C.Generator at 0x7f5dc63e08f0>"
            ]
          },
          "metadata": {
            "tags": []
          },
          "execution_count": 1
        }
      ]
    },
    {
      "cell_type": "code",
      "metadata": {
        "id": "bL64bMTkw2GP"
      },
      "source": [
        "X = torch.Tensor([[0,0], [0,1], [1,0], [1,1]])\n",
        "Y = torch.Tensor([0, 1, 1, 0]).view(-1,1)"
      ],
      "execution_count": 2,
      "outputs": []
    },
    {
      "cell_type": "code",
      "metadata": {
        "id": "aC82kEAIw3Wf"
      },
      "source": [
        "class XOR(nn.Module):\n",
        "    def __init__(self, input_dim = 2, output_dim=1):\n",
        "        super(XOR, self).__init__()\n",
        "        self.lin1 = nn.Linear(input_dim,5)\n",
        "        self.lin2 = nn.Linear(5,4)\n",
        "        self.lin3 = nn.Linear(4,output_dim)\n",
        "    \n",
        "    def forward(self, x):\n",
        "        x = self.lin1(x)\n",
        "        x = F.tanh(x)\n",
        "        x = self.lin2(x)\n",
        "        x = F.tanh(x)\n",
        "        x = self.lin3(x)\n",
        "        #x = F.tanh(x)\n",
        "\n",
        "        return x"
      ],
      "execution_count": 3,
      "outputs": []
    },
    {
      "cell_type": "code",
      "metadata": {
        "colab": {
          "base_uri": "https://localhost:8080/"
        },
        "id": "8gQIQExYw65K",
        "outputId": "4c076e34-4aa6-470d-ce67-d6121e2d3bb8"
      },
      "source": [
        "model = XOR()\n",
        "#print(model)\n",
        "from torchsummary import summary\n",
        "summary(model, (2,2))"
      ],
      "execution_count": 4,
      "outputs": [
        {
          "output_type": "stream",
          "text": [
            "----------------------------------------------------------------\n",
            "        Layer (type)               Output Shape         Param #\n",
            "================================================================\n",
            "            Linear-1                 [-1, 2, 5]              15\n",
            "            Linear-2                 [-1, 2, 4]              24\n",
            "            Linear-3                 [-1, 2, 1]               5\n",
            "================================================================\n",
            "Total params: 44\n",
            "Trainable params: 44\n",
            "Non-trainable params: 0\n",
            "----------------------------------------------------------------\n",
            "Input size (MB): 0.00\n",
            "Forward/backward pass size (MB): 0.00\n",
            "Params size (MB): 0.00\n",
            "Estimated Total Size (MB): 0.00\n",
            "----------------------------------------------------------------\n"
          ],
          "name": "stdout"
        },
        {
          "output_type": "stream",
          "text": [
            "/usr/local/lib/python3.7/dist-packages/torch/nn/functional.py:1698: UserWarning: nn.functional.tanh is deprecated. Use torch.tanh instead.\n",
            "  warnings.warn(\"nn.functional.tanh is deprecated. Use torch.tanh instead.\")\n"
          ],
          "name": "stderr"
        }
      ]
    },
    {
      "cell_type": "code",
      "metadata": {
        "id": "yeotEq19x6XF"
      },
      "source": [
        "def weights_init(model):\n",
        "    for m in model.modules():\n",
        "        if isinstance(m, nn.Linear):\n",
        "            # initialize the weight tensor, here we use a normal distribution\n",
        "            m.weight.data.normal_(0, 1)\n",
        "\n",
        "weights_init(model)"
      ],
      "execution_count": 5,
      "outputs": []
    },
    {
      "cell_type": "code",
      "metadata": {
        "id": "WrD_sNzLx78e"
      },
      "source": [
        "loss_func = nn.L1Loss()"
      ],
      "execution_count": 6,
      "outputs": []
    },
    {
      "cell_type": "code",
      "metadata": {
        "id": "-zvbrMd2x_lA"
      },
      "source": [
        "optimizer = optim.SGD(model.parameters(), lr=0.02, momentum=0.9)\n"
      ],
      "execution_count": 7,
      "outputs": []
    },
    {
      "cell_type": "code",
      "metadata": {
        "colab": {
          "base_uri": "https://localhost:8080/"
        },
        "id": "q7tWa3D7yA5X",
        "outputId": "a9a4abf9-0d21-43c8-fa57-1e2d977e0609"
      },
      "source": [
        "epochs = 2001\n",
        "steps = X.size(0)\n",
        "for i in range(epochs):\n",
        "    for j in range(steps):\n",
        "        data_point = np.random.randint(X.size(0))\n",
        "        x_var = Variable(X[data_point], requires_grad=False)\n",
        "        y_var = Variable(Y[data_point], requires_grad=False)\n",
        "        \n",
        "        optimizer.zero_grad()\n",
        "        y_hat = model(x_var)\n",
        "        loss = loss_func.forward(y_hat, y_var)\n",
        "        loss.backward()\n",
        "        optimizer.step()\n",
        "        \n",
        "    if i % 50 == 0:\n",
        "        print( \"Epoch: {0}, Loss: {1}, \".format(i, loss.data.numpy()))"
      ],
      "execution_count": 8,
      "outputs": [
        {
          "output_type": "stream",
          "text": [
            "/usr/local/lib/python3.7/dist-packages/torch/nn/functional.py:1698: UserWarning: nn.functional.tanh is deprecated. Use torch.tanh instead.\n",
            "  warnings.warn(\"nn.functional.tanh is deprecated. Use torch.tanh instead.\")\n"
          ],
          "name": "stderr"
        },
        {
          "output_type": "stream",
          "text": [
            "Epoch: 0, Loss: 0.7527577877044678, \n",
            "Epoch: 50, Loss: 0.18261802196502686, \n",
            "Epoch: 100, Loss: 0.552902340888977, \n",
            "Epoch: 150, Loss: 0.4424337148666382, \n",
            "Epoch: 200, Loss: 0.13141918182373047, \n",
            "Epoch: 250, Loss: 0.0396348237991333, \n",
            "Epoch: 300, Loss: 0.11564171314239502, \n",
            "Epoch: 350, Loss: 0.23742175102233887, \n",
            "Epoch: 400, Loss: 0.017458558082580566, \n",
            "Epoch: 450, Loss: 0.5017822980880737, \n",
            "Epoch: 500, Loss: 0.33517158031463623, \n",
            "Epoch: 550, Loss: 0.1719202995300293, \n",
            "Epoch: 600, Loss: 0.1799694299697876, \n",
            "Epoch: 650, Loss: 0.2552579641342163, \n",
            "Epoch: 700, Loss: 0.14640933275222778, \n",
            "Epoch: 750, Loss: 0.002157866954803467, \n",
            "Epoch: 800, Loss: 0.07839924097061157, \n",
            "Epoch: 850, Loss: 0.288740873336792, \n",
            "Epoch: 900, Loss: 0.061461567878723145, \n",
            "Epoch: 950, Loss: 0.07750320434570312, \n",
            "Epoch: 1000, Loss: 0.12250339984893799, \n",
            "Epoch: 1050, Loss: 0.06289458274841309, \n",
            "Epoch: 1100, Loss: 0.2999579906463623, \n",
            "Epoch: 1150, Loss: 0.1493622064590454, \n",
            "Epoch: 1200, Loss: 0.1360023021697998, \n",
            "Epoch: 1250, Loss: 0.06778502464294434, \n",
            "Epoch: 1300, Loss: 0.08415639400482178, \n",
            "Epoch: 1350, Loss: 0.3262680768966675, \n",
            "Epoch: 1400, Loss: 0.49684691429138184, \n",
            "Epoch: 1450, Loss: 0.15745913982391357, \n",
            "Epoch: 1500, Loss: 0.06313693523406982, \n",
            "Epoch: 1550, Loss: 0.8633306622505188, \n",
            "Epoch: 1600, Loss: 0.21722185611724854, \n",
            "Epoch: 1650, Loss: 0.296023964881897, \n",
            "Epoch: 1700, Loss: 0.05501151084899902, \n",
            "Epoch: 1750, Loss: 0.1706845760345459, \n",
            "Epoch: 1800, Loss: 0.014565706253051758, \n",
            "Epoch: 1850, Loss: 0.248859703540802, \n",
            "Epoch: 1900, Loss: 0.1148722767829895, \n",
            "Epoch: 1950, Loss: 0.03462374210357666, \n",
            "Epoch: 2000, Loss: 0.14355933666229248, \n"
          ],
          "name": "stdout"
        }
      ]
    },
    {
      "cell_type": "code",
      "metadata": {
        "id": "QV0dIdveyCRi"
      },
      "source": [
        ""
      ],
      "execution_count": null,
      "outputs": []
    }
  ]
}